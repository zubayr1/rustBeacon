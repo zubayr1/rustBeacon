{
 "cells": [
  {
   "cell_type": "code",
   "execution_count": 40,
   "id": "b710462e",
   "metadata": {},
   "outputs": [
    {
     "name": "stdout",
     "output_type": "stream",
     "text": [
      "111-10.10.10.10 1\n",
      "\n",
      "222-20.20.20.20 1\n",
      "\n",
      "333-30.30.30.30 1\n",
      "\n",
      "444-40.40.40.40 1\n",
      "\n",
      "555-50.50.50.50 2\n",
      "\n",
      "666-60.60.60.60 2\n",
      "\n",
      "777-70.70.70.70 2\n",
      "\n",
      "888-80.80.80.80 2\n",
      "\n",
      "------------------------\n",
      "111-10.10.10.10 1 3\n",
      "\n",
      "222-20.20.20.20 1 3\n",
      "\n",
      "333-30.30.30.30 1 3\n",
      "\n",
      "444-40.40.40.40 1 3\n",
      "\n",
      "555-50.50.50.50 2 3\n",
      "\n",
      "666-60.60.60.60 2 3\n",
      "\n",
      "777-70.70.70.70 2 3\n",
      "\n",
      "888-80.80.80.80 2 3\n",
      "\n",
      "------------------------\n"
     ]
    }
   ],
   "source": [
    "file = open(\"nodes_information.txt\", \"r\")\n",
    "\n",
    "filew = open(\"updatednodeinfo.txt\", \"w\")\n",
    "\n",
    "MINGROUPCOUNT = 4\n",
    "\n",
    "count_groupid = 1\n",
    "count_entries = MINGROUPCOUNT\n",
    "total_count = 2\n",
    "\n",
    "while(total_count >0):\n",
    "    for f in file:\n",
    "        s = f.rstrip() + \" \" + str(count_groupid) + \"\\n\"\n",
    "        print(s)\n",
    "        filew.write(s)\n",
    "\n",
    "        count_entries-=1\n",
    "\n",
    "        if count_entries ==0:\n",
    "            count_entries = MINGROUPCOUNT\n",
    "            count_groupid +=1\n",
    "        \n",
    "    total_count -=1\n",
    "    \n",
    "    MINGROUPCOUNT/=2\n",
    "    count_entries = MINGROUPCOUNT\n",
    "    \n",
    "    file.close()\n",
    "    filew.close()\n",
    "    \n",
    "    file = open(\"updatednodeinfo.txt\", \"r\")\n",
    "    filew = open(\"updatednodeinfo.txt\", \"a\")\n",
    "\n",
    "    print(\"------------------------\")\n",
    "    \n"
   ]
  },
  {
   "cell_type": "code",
   "execution_count": null,
   "id": "5282842f",
   "metadata": {},
   "outputs": [],
   "source": []
  }
 ],
 "metadata": {
  "kernelspec": {
   "display_name": "Python 3 (ipykernel)",
   "language": "python",
   "name": "python3"
  },
  "language_info": {
   "codemirror_mode": {
    "name": "ipython",
    "version": 3
   },
   "file_extension": ".py",
   "mimetype": "text/x-python",
   "name": "python",
   "nbconvert_exporter": "python",
   "pygments_lexer": "ipython3",
   "version": "3.9.12"
  }
 },
 "nbformat": 4,
 "nbformat_minor": 5
}
